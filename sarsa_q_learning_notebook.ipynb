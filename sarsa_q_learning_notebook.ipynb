{
  "nbformat": 4,
  "nbformat_minor": 0,
  "metadata": {
    "colab": {
      "provenance": [],
      "toc_visible": true
    },
    "kernelspec": {
      "display_name": "Python 3",
      "language": "python",
      "name": "python3"
    },
    "language_info": {
      "codemirror_mode": {
        "name": "ipython",
        "version": 3
      },
      "file_extension": ".py",
      "mimetype": "text/x-python",
      "name": "python",
      "nbconvert_exporter": "python",
      "pygments_lexer": "ipython3",
      "version": "3.8.5"
    }
  },
  "cells": [
    {
      "cell_type": "markdown",
      "metadata": {
        "id": "8ztJNm_1JnIA"
      },
      "source": [
        "#TP Méthodes des différences temporelles -- SARSA et Q-Learning"
      ]
    },
    {
      "cell_type": "markdown",
      "metadata": {
        "id": "SfPlRr2lJ1ul"
      },
      "source": [
        "## Frozen Lake\n",
        "\n",
        "l'environnement Frozen Lake est un monde grille incertain dans lequel on part depuis un état initial (la case la plus en haut à gauche) pour aller à un état final (la case la plus basse à droite). L'environnement est incertain car vous marchez sur un lac gelé et l'épaisseur de glace varie. Vous pouvez donc tomber dans l'eau dans certaines cases. De plus, la glace est plus glissante à certains endroits, et donc faire un pas peut vous mener plus loin que prévu... et si le vent s'en mèle...\n",
        "\n",
        "Au lieu d'essayer d'estimer le modèle de transition, on va utiliser SARSA et Q-learning pour résoudre ce problème.\n",
        "\n",
        "Utilisez l'environnement Frozen Lake pour implémenter SARSA et Q-learning. Utilisez d'abord l'environnement avec une grille 4x4 pour tester vos algorithmes, puis vous devriez pouvoir les utiliser pour la grille 16x16.\n",
        "\n"
      ]
    },
    {
      "cell_type": "markdown",
      "metadata": {
        "id": "DxXBD-woAxNm"
      },
      "source": [
        "## FrozenLake - familiarisation avec l'environnement\n",
        "\n",
        "Evaluez une politique aléatoire. "
      ]
    },
    {
      "cell_type": "code",
      "metadata": {
        "id": "YYxTls9tJmVX",
        "colab": {
          "base_uri": "https://localhost:8080/"
        },
        "outputId": "8fb492db-4f4a-469a-aa3a-62336bb3bc61"
      },
      "source": [
        "import numpy as np\n",
        "import matplotlib.pyplot as plt\n",
        "import random\n",
        "import gym\n",
        "env = gym.make(\"FrozenLake8x8-v0\",  is_slippery=True)\n",
        "numStates = env.observation_space.n\n",
        "numActions = env.action_space.n\n",
        "print(\"Environnement avec \", numStates, \" états et \", numActions, \" actions\")\n",
        "env.reset()\n",
        "nbIt=0\n",
        "rew=[]\n",
        "done=False\n",
        "while not done:\n",
        "  observation, reward, done, info = env.step(np.random.randint(4))\n",
        "  env.render()\n",
        "  nbIt+=1\n",
        "  rew = rew+[reward]\n",
        "print(\"Episode terminé après {} itérations\".format(nbIt))\n",
        "print(\"Récompenses obtenues:\",rew)\n",
        "env.close()"
      ],
      "execution_count": null,
      "outputs": [
        {
          "output_type": "stream",
          "text": [
            "Environnement avec  64  états et  4  actions\n",
            "  (Down)\n",
            "S\u001b[41mF\u001b[0mFFFFFF\n",
            "FFFFFFFF\n",
            "FFFHFFFF\n",
            "FFFFFHFF\n",
            "FFFHFFFF\n",
            "FHHFFFHF\n",
            "FHFFHFHF\n",
            "FFFHFFFG\n",
            "  (Right)\n",
            "SFFFFFFF\n",
            "F\u001b[41mF\u001b[0mFFFFFF\n",
            "FFFHFFFF\n",
            "FFFFFHFF\n",
            "FFFHFFFF\n",
            "FHHFFFHF\n",
            "FHFFHFHF\n",
            "FFFHFFFG\n",
            "  (Right)\n",
            "S\u001b[41mF\u001b[0mFFFFFF\n",
            "FFFFFFFF\n",
            "FFFHFFFF\n",
            "FFFFFHFF\n",
            "FFFHFFFF\n",
            "FHHFFFHF\n",
            "FHFFHFHF\n",
            "FFFHFFFG\n",
            "  (Up)\n",
            "S\u001b[41mF\u001b[0mFFFFFF\n",
            "FFFFFFFF\n",
            "FFFHFFFF\n",
            "FFFFFHFF\n",
            "FFFHFFFF\n",
            "FHHFFFHF\n",
            "FHFFHFHF\n",
            "FFFHFFFG\n",
            "  (Left)\n",
            "\u001b[41mS\u001b[0mFFFFFFF\n",
            "FFFFFFFF\n",
            "FFFHFFFF\n",
            "FFFFFHFF\n",
            "FFFHFFFF\n",
            "FHHFFFHF\n",
            "FHFFHFHF\n",
            "FFFHFFFG\n",
            "  (Up)\n",
            "S\u001b[41mF\u001b[0mFFFFFF\n",
            "FFFFFFFF\n",
            "FFFHFFFF\n",
            "FFFFFHFF\n",
            "FFFHFFFF\n",
            "FHHFFFHF\n",
            "FHFFHFHF\n",
            "FFFHFFFG\n",
            "  (Left)\n",
            "SFFFFFFF\n",
            "F\u001b[41mF\u001b[0mFFFFFF\n",
            "FFFHFFFF\n",
            "FFFFFHFF\n",
            "FFFHFFFF\n",
            "FHHFFFHF\n",
            "FHFFHFHF\n",
            "FFFHFFFG\n",
            "  (Down)\n",
            "SFFFFFFF\n",
            "\u001b[41mF\u001b[0mFFFFFFF\n",
            "FFFHFFFF\n",
            "FFFFFHFF\n",
            "FFFHFFFF\n",
            "FHHFFFHF\n",
            "FHFFHFHF\n",
            "FFFHFFFG\n",
            "  (Down)\n",
            "SFFFFFFF\n",
            "FFFFFFFF\n",
            "\u001b[41mF\u001b[0mFFHFFFF\n",
            "FFFFFHFF\n",
            "FFFHFFFF\n",
            "FHHFFFHF\n",
            "FHFFHFHF\n",
            "FFFHFFFG\n",
            "  (Down)\n",
            "SFFFFFFF\n",
            "FFFFFFFF\n",
            "FFFHFFFF\n",
            "\u001b[41mF\u001b[0mFFFFHFF\n",
            "FFFHFFFF\n",
            "FHHFFFHF\n",
            "FHFFHFHF\n",
            "FFFHFFFG\n",
            "  (Left)\n",
            "SFFFFFFF\n",
            "FFFFFFFF\n",
            "FFFHFFFF\n",
            "FFFFFHFF\n",
            "\u001b[41mF\u001b[0mFFHFFFF\n",
            "FHHFFFHF\n",
            "FHFFHFHF\n",
            "FFFHFFFG\n",
            "  (Right)\n",
            "SFFFFFFF\n",
            "FFFFFFFF\n",
            "FFFHFFFF\n",
            "FFFFFHFF\n",
            "FFFHFFFF\n",
            "\u001b[41mF\u001b[0mHHFFFHF\n",
            "FHFFHFHF\n",
            "FFFHFFFG\n",
            "  (Right)\n",
            "SFFFFFFF\n",
            "FFFFFFFF\n",
            "FFFHFFFF\n",
            "FFFFFHFF\n",
            "FFFHFFFF\n",
            "FHHFFFHF\n",
            "\u001b[41mF\u001b[0mHFFHFHF\n",
            "FFFHFFFG\n",
            "  (Up)\n",
            "SFFFFFFF\n",
            "FFFFFFFF\n",
            "FFFHFFFF\n",
            "FFFFFHFF\n",
            "FFFHFFFF\n",
            "FHHFFFHF\n",
            "\u001b[41mF\u001b[0mHFFHFHF\n",
            "FFFHFFFG\n",
            "  (Down)\n",
            "SFFFFFFF\n",
            "FFFFFFFF\n",
            "FFFHFFFF\n",
            "FFFFFHFF\n",
            "FFFHFFFF\n",
            "FHHFFFHF\n",
            "FHFFHFHF\n",
            "\u001b[41mF\u001b[0mFFHFFFG\n",
            "  (Up)\n",
            "SFFFFFFF\n",
            "FFFFFFFF\n",
            "FFFHFFFF\n",
            "FFFFFHFF\n",
            "FFFHFFFF\n",
            "FHHFFFHF\n",
            "\u001b[41mF\u001b[0mHFFHFHF\n",
            "FFFHFFFG\n",
            "  (Left)\n",
            "SFFFFFFF\n",
            "FFFFFFFF\n",
            "FFFHFFFF\n",
            "FFFFFHFF\n",
            "FFFHFFFF\n",
            "FHHFFFHF\n",
            "\u001b[41mF\u001b[0mHFFHFHF\n",
            "FFFHFFFG\n",
            "  (Left)\n",
            "SFFFFFFF\n",
            "FFFFFFFF\n",
            "FFFHFFFF\n",
            "FFFFFHFF\n",
            "FFFHFFFF\n",
            "FHHFFFHF\n",
            "FHFFHFHF\n",
            "\u001b[41mF\u001b[0mFFHFFFG\n",
            "  (Left)\n",
            "SFFFFFFF\n",
            "FFFFFFFF\n",
            "FFFHFFFF\n",
            "FFFFFHFF\n",
            "FFFHFFFF\n",
            "FHHFFFHF\n",
            "\u001b[41mF\u001b[0mHFFHFHF\n",
            "FFFHFFFG\n",
            "  (Left)\n",
            "SFFFFFFF\n",
            "FFFFFFFF\n",
            "FFFHFFFF\n",
            "FFFFFHFF\n",
            "FFFHFFFF\n",
            "FHHFFFHF\n",
            "\u001b[41mF\u001b[0mHFFHFHF\n",
            "FFFHFFFG\n",
            "  (Left)\n",
            "SFFFFFFF\n",
            "FFFFFFFF\n",
            "FFFHFFFF\n",
            "FFFFFHFF\n",
            "FFFHFFFF\n",
            "\u001b[41mF\u001b[0mHHFFFHF\n",
            "FHFFHFHF\n",
            "FFFHFFFG\n",
            "  (Up)\n",
            "SFFFFFFF\n",
            "FFFFFFFF\n",
            "FFFHFFFF\n",
            "FFFFFHFF\n",
            "FFFHFFFF\n",
            "\u001b[41mF\u001b[0mHHFFFHF\n",
            "FHFFHFHF\n",
            "FFFHFFFG\n",
            "  (Up)\n",
            "SFFFFFFF\n",
            "FFFFFFFF\n",
            "FFFHFFFF\n",
            "FFFFFHFF\n",
            "FFFHFFFF\n",
            "\u001b[41mF\u001b[0mHHFFFHF\n",
            "FHFFHFHF\n",
            "FFFHFFFG\n",
            "  (Right)\n",
            "SFFFFFFF\n",
            "FFFFFFFF\n",
            "FFFHFFFF\n",
            "FFFFFHFF\n",
            "\u001b[41mF\u001b[0mFFHFFFF\n",
            "FHHFFFHF\n",
            "FHFFHFHF\n",
            "FFFHFFFG\n",
            "  (Right)\n",
            "SFFFFFFF\n",
            "FFFFFFFF\n",
            "FFFHFFFF\n",
            "\u001b[41mF\u001b[0mFFFFHFF\n",
            "FFFHFFFF\n",
            "FHHFFFHF\n",
            "FHFFHFHF\n",
            "FFFHFFFG\n",
            "  (Up)\n",
            "SFFFFFFF\n",
            "FFFFFFFF\n",
            "FFFHFFFF\n",
            "F\u001b[41mF\u001b[0mFFFHFF\n",
            "FFFHFFFF\n",
            "FHHFFFHF\n",
            "FHFFHFHF\n",
            "FFFHFFFG\n",
            "  (Right)\n",
            "SFFFFFFF\n",
            "FFFFFFFF\n",
            "FFFHFFFF\n",
            "FF\u001b[41mF\u001b[0mFFHFF\n",
            "FFFHFFFF\n",
            "FHHFFFHF\n",
            "FHFFHFHF\n",
            "FFFHFFFG\n",
            "  (Left)\n",
            "SFFFFFFF\n",
            "FFFFFFFF\n",
            "FFFHFFFF\n",
            "F\u001b[41mF\u001b[0mFFFHFF\n",
            "FFFHFFFF\n",
            "FHHFFFHF\n",
            "FHFFHFHF\n",
            "FFFHFFFG\n",
            "  (Left)\n",
            "SFFFFFFF\n",
            "FFFFFFFF\n",
            "FFFHFFFF\n",
            "FFFFFHFF\n",
            "F\u001b[41mF\u001b[0mFHFFFF\n",
            "FHHFFFHF\n",
            "FHFFHFHF\n",
            "FFFHFFFG\n",
            "  (Up)\n",
            "SFFFFFFF\n",
            "FFFFFFFF\n",
            "FFFHFFFF\n",
            "F\u001b[41mF\u001b[0mFFFHFF\n",
            "FFFHFFFF\n",
            "FHHFFFHF\n",
            "FHFFHFHF\n",
            "FFFHFFFG\n",
            "  (Down)\n",
            "SFFFFFFF\n",
            "FFFFFFFF\n",
            "FFFHFFFF\n",
            "FF\u001b[41mF\u001b[0mFFHFF\n",
            "FFFHFFFF\n",
            "FHHFFFHF\n",
            "FHFFHFHF\n",
            "FFFHFFFG\n",
            "  (Up)\n",
            "SFFFFFFF\n",
            "FFFFFFFF\n",
            "FFFHFFFF\n",
            "F\u001b[41mF\u001b[0mFFFHFF\n",
            "FFFHFFFF\n",
            "FHHFFFHF\n",
            "FHFFHFHF\n",
            "FFFHFFFG\n",
            "  (Right)\n",
            "SFFFFFFF\n",
            "FFFFFFFF\n",
            "FFFHFFFF\n",
            "FFFFFHFF\n",
            "F\u001b[41mF\u001b[0mFHFFFF\n",
            "FHHFFFHF\n",
            "FHFFHFHF\n",
            "FFFHFFFG\n",
            "  (Up)\n",
            "SFFFFFFF\n",
            "FFFFFFFF\n",
            "FFFHFFFF\n",
            "FFFFFHFF\n",
            "FF\u001b[41mF\u001b[0mHFFFF\n",
            "FHHFFFHF\n",
            "FHFFHFHF\n",
            "FFFHFFFG\n",
            "  (Up)\n",
            "SFFFFFFF\n",
            "FFFFFFFF\n",
            "FFFHFFFF\n",
            "FFFFFHFF\n",
            "F\u001b[41mF\u001b[0mFHFFFF\n",
            "FHHFFFHF\n",
            "FHFFHFHF\n",
            "FFFHFFFG\n",
            "  (Right)\n",
            "SFFFFFFF\n",
            "FFFFFFFF\n",
            "FFFHFFFF\n",
            "FFFFFHFF\n",
            "FF\u001b[41mF\u001b[0mHFFFF\n",
            "FHHFFFHF\n",
            "FHFFHFHF\n",
            "FFFHFFFG\n",
            "  (Down)\n",
            "SFFFFFFF\n",
            "FFFFFFFF\n",
            "FFFHFFFF\n",
            "FFFFFHFF\n",
            "FFFHFFFF\n",
            "FH\u001b[41mH\u001b[0mFFFHF\n",
            "FHFFHFHF\n",
            "FFFHFFFG\n",
            "Episode terminé après 37 itérations\n",
            "Récompenses obtenues: [0.0, 0.0, 0.0, 0.0, 0.0, 0.0, 0.0, 0.0, 0.0, 0.0, 0.0, 0.0, 0.0, 0.0, 0.0, 0.0, 0.0, 0.0, 0.0, 0.0, 0.0, 0.0, 0.0, 0.0, 0.0, 0.0, 0.0, 0.0, 0.0, 0.0, 0.0, 0.0, 0.0, 0.0, 0.0, 0.0, 0.0]\n"
          ],
          "name": "stdout"
        }
      ]
    },
    {
      "cell_type": "markdown",
      "metadata": {
        "id": "sCR8A5xKB1Zv"
      },
      "source": [
        "## SARSA\n",
        "\n",
        "### $\\epsilon$-greedy\n",
        "\n",
        "Implémentez une fonction qui chosit une action avec la stratégie $\\epsilon$-greedy:\n",
        "* exploite avec un probabilité $1-\\epsilon$: ici on choisit l'action avec la meilleure valeur de $q[s]$\n",
        "* explore avec une probabilité $\\epsilon$: on choisit une action de manière uniforme sur toute les actions.\n",
        "\n",
        "### SARSA\n",
        "\n",
        "Implémentez un fonction SARSA qui prend en paramètre\n",
        " * un nombre d'épisodes utilisés pour l'apprentissage\n",
        " * $\\gamma$ le taux d'escompte\n",
        " * $\\alpha$ le taux d'apprentissage (que l'on retrouve lors de la mise à jour des valeurs de Q)\n",
        " * $\\epsilon$ le paramètre pour la méthode $\\epsilon$-greedy.\n",
        "\n",
        "Votre fonction doit au moins retourner la table $Q: S \\times A$. Vous trouverez ci-dessous une fonction $plotQ$ qui génère une représentation de la table $Q$: pour chaque case sera dessiné la meilleure action selon $Q$ et la couleur représentera la valeur de cette action.\n",
        " \n",
        "Pour visualiser les progrès faits pendant l'apprentissage, votre fonction SARSA peut également retourner une séquence de valeurs. Par exemple,\n",
        " * la séquence de récompenses (totale ou moyenne) obtenue sur chaque épisode de l'apprentissage\n",
        " * la valeur de la meilleure action pour l'état de départ à chaque fin d'épisode.\n",
        " * au lieu d'utiliser les valeurs obtenues lors de l'apprentissage, vous pouvez aussi effectuer périodiquement une évaluation de la politique courante (sans exploration). Pour ce faire, vous pouvez calculer la performance sur un petit nombre d'épisodes et retourner la moyenne. Cette méthode a l'avantage d'évaluer la politique sans exploration (donc une meilleure évaluation de la politique), mais peut coûter cher en temps de calcul suivant la fréquence d'exécution et le nombre d'épisodes utilisés pour l'évaluation.\n",
        "\n",
        "En générant le graphique, vous devriez visualiser si l'algorithme est arrivé à améliorer les performances. Vous pouvez soit tracer directement la valeur de chaque épisode. Pour avoir une courbe un peu plus lisse, vous pouvez aussi calculer une moyenne sur une fenêtre de $k$ épisodes (la fonction $runningAvg$ effectue ce travail).\n",
        "\n",
        "Notez qu'on considère Frozen lake comme résolu quand\n",
        " * il atteint le but dans 78% des épisodes pour la grille 4x4.\n",
        " * a priori, on peut atteindre 100% pour la grille 8x8\n",
        "\n",
        "Quelques idées pour aider au debeug:\n",
        " * vous pouvez aussi regarder si la plupart des paires état-actions ont été exécutée. \n",
        " * Vous pouvez choisir comme paramètres (le code que j'ai écrit a fonctionné avec ces paramètres, évidemment, vous pouvez essayer avec d'autres par la suite).\n",
        "   * $\\epsilon=0.2$\n",
        "   * $\\alpha=0.02$\n"
      ]
    },
    {
      "cell_type": "code",
      "metadata": {
        "id": "lBPUTjtTXpyZ"
      },
      "source": [
        "def runningAvg(data, windowSize):\n",
        "  res = np.zeros(len(data)-windowSize)\n",
        "  sum=0\n",
        "  for i in range(windowSize):\n",
        "    sum += data[i]\n",
        "  for i in range(len(data)-windowSize):\n",
        "    res[i]= sum/windowSize\n",
        "    sum -= data[i]\n",
        "    sum += data[i+windowSize]\n",
        "  return res\n",
        "\n",
        "\n",
        "# visualisation de la table Q pour FrozenLake 4x4 et 8x8\n",
        "# passez la taille (4 ou 8) en paramètres\n",
        "def plotQ(q_table, map_size):\n",
        "  if (map_size==4):\n",
        "    MAP = [\n",
        "        \"SFFF\",\n",
        "        \"FHFH\",\n",
        "        \"FFFF\",\n",
        "        \"HFFG\"\n",
        "    ]\n",
        "  else:\n",
        "    MAP=[\n",
        "        \"SFFFFFFF\",\n",
        "        \"FFFFFFFF\",\n",
        "        \"FFFHFFFF\",\n",
        "        \"FFFFFHFF\",\n",
        "        \"FFFHFFFF\",\n",
        "        \"FHHFFFHF\",\n",
        "        \"FHFFHFHF\",\n",
        "        \"FFFHFFFG\"\n",
        "    ]\n",
        "  best_value = np.max(q_table, axis = 1).reshape((map_size,map_size))\n",
        "  best_policy = np.argmax(q_table, axis = 1).reshape((map_size,map_size))\n",
        "    \n",
        "  fig, ax = plt.subplots()\n",
        "  im = ax.imshow(best_value)\n",
        "\n",
        "  for i in range(best_value.shape[0]):\n",
        "      for j in range(best_value.shape[1]):\n",
        "          if MAP[i][j] in 'GH':\n",
        "              arrow = MAP[i][j]\n",
        "          elif best_policy[i, j] == 0:\n",
        "              arrow = '<'\n",
        "          elif best_policy[i, j] == 1:\n",
        "              arrow = 'v'\n",
        "          elif best_policy[i, j] == 2:\n",
        "              arrow = '>'\n",
        "          elif best_policy[i, j] == 3:\n",
        "              arrow = '^'\n",
        "          if MAP[i][j] in 'S':\n",
        "              arrow = 'S ' + arrow\n",
        "          text = ax.text(j, i, arrow, ha = \"center\", va = \"center\",\n",
        "                         color = \"black\")\n",
        "            \n",
        "  cbar = ax.figure.colorbar(im, ax = ax)\n",
        "    \n",
        "  fig.tight_layout()\n",
        "  plt.show() "
      ],
      "execution_count": null,
      "outputs": []
    },
    {
      "cell_type": "code",
      "metadata": {
        "id": "07nqv7KbMnr3"
      },
      "source": [
        "def epsGreedy(epsilon, q):\n",
        "  a = np.argmax(q)\n",
        "  if np.random.rand() < epsilon:\n",
        "    a = np.random.randint(len(q))\n",
        "  return a\n",
        "\n",
        "\n",
        "def sarsa(n_episode, gamma, alpha, epsilon):\n",
        "  reward_per_episode = []\n",
        "  q = np.zeros((numStates, numActions))\n",
        "  for episode in range(n_episode):\n",
        "    observation = env.reset()\n",
        "    action = epsGreedy(epsilon, q[observation, :])\n",
        "    sum_reward = 0\n",
        "    for t in range(3000):\n",
        "      observationP, reward, done, _ = env.step(action)\n",
        "      sum_reward += reward\n",
        "      if (done and reward == 0):\n",
        "        reward = 0\n",
        "      elif(not done):\n",
        "        reward = -0.001\n",
        "      actionP = epsGreedy(epsilon, q[observationP,:])\n",
        "      #if done:\n",
        "      #  tmp = alpha * (reward - q[observation, action])\n",
        "      #else:\n",
        "      tmp = alpha * (reward + gamma * q[observationP, actionP] - q[observation, action])\n",
        "      q[observation, action] = q[observation, action] + tmp\n",
        "\n",
        "      action = actionP\n",
        "      observation = observationP\n",
        "      sum_reward += reward\n",
        "\n",
        "      if done:\n",
        "        break\n",
        "    reward_per_episode.append(sum_reward)\n",
        "  return q, reward_per_episode"
      ],
      "execution_count": null,
      "outputs": []
    },
    {
      "cell_type": "code",
      "metadata": {
        "id": "72qks7opP3U6"
      },
      "source": [
        "q, r = sarsa(100000, .99, 0.02, 0.2)"
      ],
      "execution_count": null,
      "outputs": []
    },
    {
      "cell_type": "code",
      "metadata": {
        "colab": {
          "base_uri": "https://localhost:8080/",
          "height": 283
        },
        "id": "bZAMSAxoLrL2",
        "outputId": "29ad031b-7405-459f-bd05-4fc3383c0d67"
      },
      "source": [
        "plt.plot(r, 'x')"
      ],
      "execution_count": null,
      "outputs": [
        {
          "output_type": "execute_result",
          "data": {
            "text/plain": [
              "[<matplotlib.lines.Line2D at 0x7fc08e7afad0>]"
            ]
          },
          "metadata": {
            "tags": []
          },
          "execution_count": 208
        },
        {
          "output_type": "display_data",
          "data": {
            "image/png": "[encoded data removed]",
            "text/plain": [
              "<Figure size 432x288 with 1 Axes>"
            ]
          },
          "metadata": {
            "tags": [],
            "needs_background": "light"
          }
        }
      ]
    },
    {
      "cell_type": "code",
      "metadata": {
        "colab": {
          "base_uri": "https://localhost:8080/",
          "height": 297
        },
        "id": "RJmay0D9dJO4",
        "outputId": "9d18ae4b-2f57-4e86-c7ac-5bca7a442b48"
      },
      "source": [
        "plotQ(q, 8)"
      ],
      "execution_count": null,
      "outputs": [
        {
          "output_type": "display_data",
          "data": {
            "image/png": "[encoded data removed]",
            "text/plain": [
              "<Figure size 432x288 with 2 Axes>"
            ]
          },
          "metadata": {
            "tags": [],
            "needs_background": "light"
          }
        }
      ]
    },
    {
      "cell_type": "code",
      "metadata": {
        "id": "9IqjS1tAGUji"
      },
      "source": [
        "def playWithQ(state, q):\n",
        "  return np.argmax(q[state,:])"
      ],
      "execution_count": null,
      "outputs": []
    },
    {
      "cell_type": "code",
      "metadata": {
        "colab": {
          "base_uri": "https://localhost:8080/"
        },
        "id": "Mfo2YR9XGhJP",
        "outputId": "09d3fd9d-3363-4632-9953-a8a9a5abae73"
      },
      "source": [
        "nb_test = 1000\n",
        "res = []\n",
        "for _ in range(nb_test):\n",
        "  state = env.reset()\n",
        "  for t in range(3000):\n",
        "    action = playWithQ(state)\n",
        "    state, reward, done, _ = env.step(action)\n",
        "    if (done):\n",
        "      res.append(reward)\n",
        "      break\n",
        "print(np.mean(res))"
      ],
      "execution_count": null,
      "outputs": [
        {
          "output_type": "stream",
          "text": [
            "0.83\n"
          ],
          "name": "stdout"
        }
      ]
    },
    {
      "cell_type": "markdown",
      "metadata": {
        "id": "oal2LS2mG3qW"
      },
      "source": [
        "## Q-learning\n",
        "Implémentez l'algorithme Q-learning (en partant de SARSA, il ne devrait y avoir que quelques lignes de codes à modidier!)\n",
        "\n"
      ]
    },
    {
      "cell_type": "code",
      "metadata": {
        "id": "vZ8bmLd8pxjD"
      },
      "source": [
        "# à implémenter\n",
        "def q_learning(n_episode, gamma, alpha, epsilon):\n",
        "  reward_per_episode = []\n",
        "  q = np.zeros((numStates, numActions))\n",
        "  for episode in range(n_episode):\n",
        "    observation = env.reset()\n",
        "    action = epsGreedy(epsilon, q[observation, :])\n",
        "    sum_reward = 0\n",
        "    for t in range(3000):\n",
        "      observationP, reward, done, _ = env.step(action)\n",
        "      sum_reward += reward\n",
        "      if (done and reward == 0):\n",
        "        reward = 0\n",
        "      elif(not done):\n",
        "        reward = -0.001\n",
        "      actionP = epsGreedy(epsilon, q[observationP,:])\n",
        "      if done:\n",
        "        tmp = alpha * (reward  - q[observation, action])\n",
        "      else:\n",
        "        mx = np.max(q[observationP,:])\n",
        "        tmp = alpha * (reward + gamma * mx - q[observation, action])\n",
        "      q[observation, action] = q[observation, action] + tmp\n",
        "\n",
        "      action = actionP\n",
        "      observation = observationP\n",
        "      sum_reward += reward\n",
        "\n",
        "      if done:\n",
        "        break\n",
        "    reward_per_episode.append(sum_reward)\n",
        "  return q, reward_per_episode"
      ],
      "execution_count": null,
      "outputs": []
    },
    {
      "cell_type": "markdown",
      "metadata": {
        "id": "nixgMInoHHtz"
      },
      "source": [
        "## Comparaison\n",
        "\n",
        "Comparer les politiques trouvées à l'aide de SARSA, Q-learning, et vous devriez aussi pouvoir utiliser le code de l'algorithme on policy Monte Carlo du TD précédent.\n",
        "\n",
        "Avant convergence à l'optimal, on observe souvent que SARSA a choisi une politique moins risquée avant de tomber sur l'optimal pour le FrozenLake8x8."
      ]
    },
    {
      "cell_type": "code",
      "metadata": {
        "colab": {
          "base_uri": "https://localhost:8080/",
          "height": 189
        },
        "id": "GF0N65maReOw",
        "outputId": "369b925c-a5c0-4545-8596-ebd40b880c2b"
      },
      "source": [
        "qlr, r = q_learning(100000, .99, 0.02, 0.2)\n",
        "plotQ(qlr, 8)"
      ],
      "execution_count": null,
      "outputs": [
        {
          "output_type": "error",
          "ename": "NameError",
          "evalue": "ignored",
          "traceback": [
            "\u001b[0;31m---------------------------------------------------------------------------\u001b[0m",
            "\u001b[0;31mNameError\u001b[0m                                 Traceback (most recent call last)",
            "\u001b[0;32m<ipython-input-209-a2618940b0cd>\u001b[0m in \u001b[0;36m<module>\u001b[0;34m()\u001b[0m\n\u001b[1;32m      1\u001b[0m \u001b[0mqlt\u001b[0m\u001b[0;34m,\u001b[0m \u001b[0mr\u001b[0m \u001b[0;34m=\u001b[0m \u001b[0mq_learning\u001b[0m\u001b[0;34m(\u001b[0m\u001b[0;36m100000\u001b[0m\u001b[0;34m,\u001b[0m \u001b[0;36m.99\u001b[0m\u001b[0;34m,\u001b[0m \u001b[0;36m0.02\u001b[0m\u001b[0;34m,\u001b[0m \u001b[0;36m0.2\u001b[0m\u001b[0;34m)\u001b[0m\u001b[0;34m\u001b[0m\u001b[0;34m\u001b[0m\u001b[0m\n\u001b[0;32m----> 2\u001b[0;31m \u001b[0mplotQ\u001b[0m\u001b[0;34m(\u001b[0m\u001b[0mqlr\u001b[0m\u001b[0;34m,\u001b[0m \u001b[0;36m8\u001b[0m\u001b[0;34m)\u001b[0m\u001b[0;34m\u001b[0m\u001b[0;34m\u001b[0m\u001b[0m\n\u001b[0m",
            "\u001b[0;31mNameError\u001b[0m: name 'qlr' is not defined"
          ]
        }
      ]
    },
    {
      "cell_type": "code",
      "metadata": {
        "colab": {
          "base_uri": "https://localhost:8080/",
          "height": 315
        },
        "id": "dfqo7xq_SLhC",
        "outputId": "204f0e40-cb35-46bd-934a-1bcdcfcd1e7f"
      },
      "source": [
        "plotQ(qlt, 8)\n",
        "nb_test = 1000\n",
        "res = []\n",
        "for _ in range(nb_test):\n",
        "  state = env.reset()\n",
        "  for t in range(3000):\n",
        "    action = playWithQ(state, qlt)\n",
        "    state, reward, done, _ = env.step(action)\n",
        "    if (done):\n",
        "      res.append(reward)\n",
        "      break\n",
        "print(np.mean(res))"
      ],
      "execution_count": null,
      "outputs": [
        {
          "output_type": "display_data",
          "data": {
            "image/png": "[encoded data removed]",
            "text/plain": [
              "<Figure size 432x288 with 2 Axes>"
            ]
          },
          "metadata": {
            "tags": [],
            "needs_background": "light"
          }
        },
        {
          "output_type": "stream",
          "text": [
            "0.877\n"
          ],
          "name": "stdout"
        }
      ]
    },
    {
      "cell_type": "markdown",
      "metadata": {
        "id": "vMtevQsXpGUX"
      },
      "source": [
        "## Cart-pole en tabulaire\n",
        "\n",
        "On vous propose pour finir d'utiliser votre code et de tester l'apprentissage sur le problème du cart-pole. A priori, c'est un problème où les états sont des variables continues. On vous propose ici de discrétiser les variables et d'essayer d'utiliser une des méthodes pour voir vos résultats. \n",
        "\n",
        "La récompense que vous obtenez est le nombre de pas de temps où le baton est resté en équilibre. Si vous utilisez colab pour coder, vous ne pourrez malheureusement pas visualiser un épisode avec la méthode render :-(\n",
        "\n",
        "Cet environnement Cart-Pole consiste à déplacer un chariot pour faire tenir en équilibre une poutre. Plus précisément:\n",
        "* Il y a deux actions : gauche et droite (représentées par 0 et 1).\n",
        "* L'observation reçue (c'est à dire l'état) est un tableau numpy comprenant 4 variables: la position du chariot, la vélocité, l'angle à la verticale et la position du haut de la poutre.\n",
        "* L'épisode se termine lorsque l'angle de la poutre à la verticale dépasse 12 degrés.\n",
        "* Les récompenses reçues sont égales à 1 sauf si l'angle dépasse 12 degrés.\n",
        "\n",
        "On vous donne ci-dessous les fonctions pour réaliser la discrétisation et pour encoder l'état en un entier.\n"
      ]
    },
    {
      "cell_type": "code",
      "metadata": {
        "colab": {
          "base_uri": "https://localhost:8080/"
        },
        "id": "ep-nyEsPtxi2",
        "outputId": "75a68c4e-5665-489b-c390-d173c6c4f2a8"
      },
      "source": [
        "env = gym.make(\"CartPole-v1\")\n",
        "#numStates = env.observation_space.n\n",
        "numActions = env.action_space.n\n",
        "print(\"environnement avec \", env.action_space.n, \" actions\")\n",
        "print(\"l'espace des états est lui codé avec une class\", env.observation_space,\n",
        "      \" qui représente un espace continu\")\n",
        "print(\"les bornes inférieures des intervalles sont: \", env.observation_space.low)\n",
        "print(\"les bornes supérieures des intervalles sont: \",env.observation_space.high)\n",
        "env.reset()\n",
        "nbIt=0\n",
        "done=False\n",
        "while not done:\n",
        "  observation, reward, done, info = env.step(np.random.randint(2))\n",
        "  nbIt+=1\n",
        "print(\"Episode terminé après {} itérations\".format(nbIt))\n",
        "env.close()"
      ],
      "execution_count": null,
      "outputs": [
        {
          "output_type": "stream",
          "text": [
            "environnement avec  2  actions\n",
            "l'espace des états est lui codé avec une class Box(-3.4028234663852886e+38, 3.4028234663852886e+38, (4,), float32)  qui représente un espace continu\n",
            "les bornes inférieures des intervalles sont:  [-4.8000002e+00 -3.4028235e+38 -4.1887903e-01 -3.4028235e+38]\n",
            "les bornes supérieures des intervalles sont:  [4.8000002e+00 3.4028235e+38 4.1887903e-01 3.4028235e+38]\n",
            "Episode terminé après 11 itérations\n"
          ],
          "name": "stdout"
        }
      ]
    },
    {
      "cell_type": "code",
      "metadata": {
        "id": "mDMbbzDrqCrV"
      },
      "source": [
        "def discretise(x,mini,maxi): \n",
        "  # discretise x\n",
        "  # renvoie un entier entre 0 et nval-1\n",
        "  if x<mini: x=mini\n",
        "  if x>maxi: x=maxi\n",
        "  return int(np.floor((x-mini)*nval/(maxi-mini+0.0001)))\n",
        "\n",
        "def encode(observation):\n",
        "  pos = discretise(observation[0],mini=-1,maxi=1)\n",
        "  vel = discretise(observation[1],mini=-1,maxi=1)\n",
        "  angle = discretise(observation[2],mini=-1,maxi=1)\n",
        "  pos2 = discretise(observation[3],mini=-1,maxi=1)\n",
        "  return pos + vel*nval + angle*nval*nval + pos2*nval*nval*nval"
      ],
      "execution_count": null,
      "outputs": []
    },
    {
      "cell_type": "code",
      "metadata": {
        "colab": {
          "base_uri": "https://localhost:8080/"
        },
        "id": "h0z0VtgYq-fv",
        "outputId": "c11cd96e-ab74-45dd-873d-43d82796602b"
      },
      "source": [
        "nval =5 # nombre de valeurs discrètes qu’une variable peut prendre\n",
        "N= nval ** 4 # Puisqu’il y a 4 variables, la taille de l’espace est nval^4\n",
        "print(\"Le nombre d'états sera ici de \", N)"
      ],
      "execution_count": null,
      "outputs": [
        {
          "output_type": "stream",
          "text": [
            "Le nombre d'états sera ici de  625\n"
          ],
          "name": "stdout"
        }
      ]
    },
    {
      "cell_type": "markdown",
      "metadata": {
        "id": "1Sq12HjSrgNw"
      },
      "source": [
        "Modifiez votre implémentation de Q-learning et/ou de SARSA pour tester si vous pouvez apprendre à maintenier le baton en équilibre. Une modification sera d'utilisé les fonctions ci-dessus pour encoder/decoder un état. Une autre sera surement d'ajouter le nombre d'états en paramètre car ce nombre est maintenant indépendant de l'environnement! \n",
        "Avec comme paramètre $\\epsilon=0.1$, $\\alpha=0.2$ et $\\gamma=0.9$, j'arrive a atteindre un score autour de 90 pas de temps."
      ]
    },
    {
      "cell_type": "code",
      "metadata": {
        "id": "ythSnUmaIEIs"
      },
      "source": [
        "# à implémenter et tester\n",
        "# à implémenter\n",
        "def q_learning(n_episode, gamma, alpha, epsilon):\n",
        "  reward_per_episode = []\n",
        "  q = np.zeros((N, 2))\n",
        "  for episode in range(n_episode):\n",
        "    observation = env.reset()\n",
        "    observation = encode(observation)\n",
        "    action = epsGreedy(epsilon, q[observation, :])\n",
        "    sum_reward = 0\n",
        "    for t in range(3000):\n",
        "      observationP, reward, done, _ = env.step(action)\n",
        "      observationP = encode(observationP)\n",
        "      sum_reward += reward\n",
        "      if (done):\n",
        "        reward = -1\n",
        "      #elif(not done):\n",
        "      #  reward = 1\n",
        "      #print(reward)\n",
        "      actionP = epsGreedy(epsilon, q[observationP,:])\n",
        "      #if done:\n",
        "      #  tmp = alpha * (reward  - q[observation, action])\n",
        "      #else:\n",
        "      mx = np.max(q[observationP,:])\n",
        "      tmp = alpha * (reward + gamma * mx - q[observation, action])\n",
        "      q[observation, action] = q[observation, action] + tmp\n",
        "\n",
        "      action = actionP\n",
        "      observation = observationP\n",
        "      sum_reward += 1\n",
        "\n",
        "      if done:\n",
        "        break\n",
        "    reward_per_episode.append(sum_reward)\n",
        "  return q, reward_per_episode"
      ],
      "execution_count": null,
      "outputs": []
    },
    {
      "cell_type": "code",
      "metadata": {
        "id": "rjnXgidYjB2v"
      },
      "source": [
        "def sarsa(n_episode, gamma, alpha, epsilon):\n",
        "  reward_per_episode = []\n",
        "  q = np.zeros((N, 2))\n",
        "  for episode in range(n_episode):\n",
        "    observation = env.reset()\n",
        "    observation = encode(observation)\n",
        "    action = epsGreedy(epsilon, q[observation, :])\n",
        "    sum_reward = 0\n",
        "    for t in range(3000):\n",
        "      observationP, reward, done, _ = env.step(action)\n",
        "      observationP = encode(observationP)\n",
        "      sum_reward += reward\n",
        "      #if (done):\n",
        "      #  reward = -1\n",
        "      #elif(not done):\n",
        "      #  reward = -0.001\n",
        "      actionP = epsGreedy(epsilon, q[observationP,:])\n",
        "      #if done:\n",
        "      #  tmp = alpha * (reward - q[observation, action])\n",
        "      #else:\n",
        "      tmp = alpha * (reward + gamma * q[observationP, actionP] - q[observation, action])\n",
        "      q[observation, action] = q[observation, action] + tmp\n",
        "\n",
        "      action = actionP\n",
        "      observation = observationP\n",
        "      sum_reward += 1\n",
        "\n",
        "      if done:\n",
        "        break\n",
        "    reward_per_episode.append(sum_reward)\n",
        "  return q, reward_per_episode"
      ],
      "execution_count": null,
      "outputs": []
    },
    {
      "cell_type": "code",
      "metadata": {
        "id": "u6g8vx4efbhL"
      },
      "source": [
        "pi, r = sarsa(10000, .9, .2, .1)"
      ],
      "execution_count": null,
      "outputs": []
    },
    {
      "cell_type": "code",
      "metadata": {
        "colab": {
          "base_uri": "https://localhost:8080/",
          "height": 283
        },
        "id": "9NtEeLeKhhI-",
        "outputId": "a153ef33-7114-4795-ec83-755619d2e6ed"
      },
      "source": [
        "plt.plot(r)"
      ],
      "execution_count": null,
      "outputs": [
        {
          "output_type": "execute_result",
          "data": {
            "text/plain": [
              "[<matplotlib.lines.Line2D at 0x7fc08dcff610>]"
            ]
          },
          "metadata": {
            "tags": []
          },
          "execution_count": 336
        },
        {
          "output_type": "display_data",
          "data": {
            "image/png": "[encoded data removed]",
            "text/plain": [
              "<Figure size 432x288 with 1 Axes>"
            ]
          },
          "metadata": {
            "tags": [],
            "needs_background": "light"
          }
        }
      ]
    },
    {
      "cell_type": "code",
      "metadata": {
        "colab": {
          "base_uri": "https://localhost:8080/"
        },
        "id": "P68pQOKafbZQ",
        "outputId": "9701bb79-5a58-4fa4-8b68-26df47b28437"
      },
      "source": [
        "observation = env.reset()\n",
        "nbIt=0\n",
        "done=False\n",
        "while not done:\n",
        "  observation = encode(observation)\n",
        "  action = np.argmax(pi[observation,:])\n",
        "  observation, reward, done, info = env.step(action)\n",
        "  nbIt+=1\n",
        "print(\"Episode terminé après {} itérations\".format(nbIt))\n",
        "env.close()"
      ],
      "execution_count": null,
      "outputs": [
        {
          "output_type": "stream",
          "text": [
            "Episode terminé après 24 itérations\n"
          ],
          "name": "stdout"
        }
      ]
    }
  ]
}